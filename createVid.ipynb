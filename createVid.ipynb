{
 "cells": [
  {
   "cell_type": "markdown",
   "metadata": {},
   "source": [
    "# COMP3362 - AI Group Project \\[Test video creation\\]\n",
    "\n",
    "In this jupyter notebook, we examine the data we have and try to create a test video for the project demonstration\n"
   ]
  },
  {
   "cell_type": "markdown",
   "metadata": {},
   "source": [
    "## Import Libraries"
   ]
  },
  {
   "cell_type": "code",
   "execution_count": 2,
   "metadata": {
    "execution": {
     "iopub.execute_input": "2022-11-16T06:09:43.142292Z",
     "iopub.status.busy": "2022-11-16T06:09:43.141615Z",
     "iopub.status.idle": "2022-11-16T06:09:43.150361Z",
     "shell.execute_reply": "2022-11-16T06:09:43.149110Z",
     "shell.execute_reply.started": "2022-11-16T06:09:43.142201Z"
    }
   },
   "outputs": [],
   "source": [
    "import pandas as pd\n",
    "import os\n",
    "import shutil"
   ]
  },
  {
   "cell_type": "markdown",
   "metadata": {},
   "source": [
    "## Read CSV Data\n",
    "We display the sequence numbers of videos and the number of frames available in each sequence.\n",
    "\n",
    "Ideally we would like a longer video for the demonstration."
   ]
  },
  {
   "cell_type": "code",
   "execution_count": 3,
   "metadata": {
    "execution": {
     "iopub.execute_input": "2022-11-16T06:09:57.907829Z",
     "iopub.status.busy": "2022-11-16T06:09:57.907384Z",
     "iopub.status.idle": "2022-11-16T06:09:57.959136Z",
     "shell.execute_reply": "2022-11-16T06:09:57.958224Z",
     "shell.execute_reply.started": "2022-11-16T06:09:57.907780Z"
    }
   },
   "outputs": [
    {
     "name": "stdout",
     "output_type": "stream",
     "text": [
      "29859    2988\n",
      "60754    2959\n",
      "8503     2843\n",
      "37114    2800\n",
      "26651    1525\n",
      "8399     1423\n",
      "22643    1248\n",
      "60510    1167\n",
      "53708    1077\n",
      "996       923\n",
      "35305     853\n",
      "45518     798\n",
      "15827     770\n",
      "45015     617\n",
      "59337     537\n",
      "Name: sequence, dtype: int64\n",
      "\n",
      "\n",
      "Int64Index([29859, 60754,  8503, 37114, 26651,  8399, 22643, 60510, 53708,\n",
      "              996, 35305, 45518, 15827, 45015, 59337],\n",
      "           dtype='int64')\n"
     ]
    }
   ],
   "source": [
    "train_df = pd.read_csv(\"./data/train.csv\")\n",
    "print(train_df[\"sequence\"].value_counts().iloc[:15], end=\"\\n\\n\\n\")\n",
    "print(train_df[\"sequence\"].value_counts().iloc[:15].index) # top 15 longest video sequences"
   ]
  },
  {
   "cell_type": "markdown",
   "metadata": {},
   "source": [
    "## Number of frames holding annotations\n",
    "We print the number of frames with annotations in each video.\n",
    "\n",
    "Ideally we would like a video with more annotations for our demonstration"
   ]
  },
  {
   "cell_type": "code",
   "execution_count": 4,
   "metadata": {},
   "outputs": [
    {
     "name": "stdout",
     "output_type": "stream",
     "text": [
      "# of Frames with annotations: 71\n",
      "Sequence number: 29859\n",
      "\n",
      "# of Frames with annotations: 654\n",
      "Sequence number: 60754\n",
      "\n",
      "# of Frames with annotations: 1100\n",
      "Sequence number: 8503\n",
      "\n",
      "# of Frames with annotations: 0\n",
      "Sequence number: 37114\n",
      "\n",
      "# of Frames with annotations: 29\n",
      "Sequence number: 26651\n",
      "\n",
      "# of Frames with annotations: 564\n",
      "Sequence number: 8399\n",
      "\n",
      "# of Frames with annotations: 577\n",
      "Sequence number: 22643\n",
      "\n",
      "# of Frames with annotations: 113\n",
      "Sequence number: 60510\n",
      "\n",
      "# of Frames with annotations: 704\n",
      "Sequence number: 53708\n",
      "\n",
      "# of Frames with annotations: 209\n",
      "Sequence number: 996\n",
      "\n",
      "# of Frames with annotations: 80\n",
      "Sequence number: 35305\n",
      "\n",
      "# of Frames with annotations: 123\n",
      "Sequence number: 45518\n",
      "\n",
      "# of Frames with annotations: 74\n",
      "Sequence number: 15827\n",
      "\n",
      "# of Frames with annotations: 22\n",
      "Sequence number: 45015\n",
      "\n",
      "# of Frames with annotations: 156\n",
      "Sequence number: 59337\n",
      "\n"
     ]
    }
   ],
   "source": [
    "for i in train_df[\"sequence\"].value_counts().iloc[:15].index:\n",
    "    print(\"# of Frames with annotations:\", train_df[train_df[\"annotations\"] != \"[]\"][train_df[train_df[\"annotations\"] != \"[]\"][\"sequence\"]==i].shape[0])\n",
    "    print(f\"Sequence number: {i}\", end=\"\\n\\n\")"
   ]
  },
  {
   "cell_type": "markdown",
   "metadata": {},
   "source": [
    "## Choice of video\n",
    "\n",
    "We chose the second longest video with the most number of annotated frames"
   ]
  },
  {
   "cell_type": "code",
   "execution_count": 5,
   "metadata": {},
   "outputs": [
    {
     "name": "stdout",
     "output_type": "stream",
     "text": [
      "       video_id  sequence  video_frame  sequence_frame image_id  \\\n",
      "19265         2     22643         5363               0   2-5363   \n",
      "19266         2     22643         5364               1   2-5364   \n",
      "19267         2     22643         5365               2   2-5365   \n",
      "19268         2     22643         5366               3   2-5366   \n",
      "19269         2     22643         5367               4   2-5367   \n",
      "...         ...       ...          ...             ...      ...   \n",
      "20508         2     22643         6606            1243   2-6606   \n",
      "20509         2     22643         6607            1244   2-6607   \n",
      "20510         2     22643         6608            1245   2-6608   \n",
      "20511         2     22643         6609            1246   2-6609   \n",
      "20512         2     22643         6610            1247   2-6610   \n",
      "\n",
      "                                             annotations  \\\n",
      "19265  [{'x': 701, 'y': 133, 'width': 49, 'height': 3...   \n",
      "19266  [{'x': 701, 'y': 152, 'width': 40, 'height': 4...   \n",
      "19267  [{'x': 693, 'y': 182, 'width': 40, 'height': 4...   \n",
      "19268  [{'x': 684, 'y': 212, 'width': 40, 'height': 4...   \n",
      "19269  [{'x': 678, 'y': 248, 'width': 40, 'height': 4...   \n",
      "...                                                  ...   \n",
      "20508                                                 []   \n",
      "20509                                                 []   \n",
      "20510                                                 []   \n",
      "20511                                                 []   \n",
      "20512                                                 []   \n",
      "\n",
      "                                       path  \n",
      "19265  ./data/train_images/video_2/5363.jpg  \n",
      "19266  ./data/train_images/video_2/5364.jpg  \n",
      "19267  ./data/train_images/video_2/5365.jpg  \n",
      "19268  ./data/train_images/video_2/5366.jpg  \n",
      "19269  ./data/train_images/video_2/5367.jpg  \n",
      "...                                     ...  \n",
      "20508  ./data/train_images/video_2/6606.jpg  \n",
      "20509  ./data/train_images/video_2/6607.jpg  \n",
      "20510  ./data/train_images/video_2/6608.jpg  \n",
      "20511  ./data/train_images/video_2/6609.jpg  \n",
      "20512  ./data/train_images/video_2/6610.jpg  \n",
      "\n",
      "[1248 rows x 7 columns]\n"
     ]
    }
   ],
   "source": [
    "train_df[\"path\"] = train_df[train_df[\"sequence\"]==22643].apply(lambda x: os.path.join(\"./data/train_images\", f\"video_{x['video_id']}\", f\"{x['video_frame']}.jpg\"), axis=1)\n",
    "tmp = train_df[train_df[\"sequence\"]==22643]\n",
    "print(tmp)"
   ]
  },
  {
   "cell_type": "markdown",
   "metadata": {},
   "source": [
    "## Create video\n",
    "\n",
    "1. We create a separate working directory\n",
    "2. We copy images into the working directory\n",
    "3. we use ffmpeg to stich images togeather\n",
    "4. we clear working directory"
   ]
  },
  {
   "cell_type": "code",
   "execution_count": 13,
   "metadata": {},
   "outputs": [],
   "source": [
    "!rm -rf videoCell/ && rm -rf outputVideo/ && mkdir videoCell/ outputVideo/"
   ]
  },
  {
   "cell_type": "code",
   "execution_count": 14,
   "metadata": {},
   "outputs": [],
   "source": [
    "tmp = tmp.reset_index(drop=True)\n",
    "for i in tmp.index:\n",
    "    shutil.copyfile(tmp.iloc[i][\"path\"], os.path.join(\"./videoCell\", str(tmp.iloc[i][\"video_frame\"])+\".jpg\"))"
   ]
  },
  {
   "cell_type": "code",
   "execution_count": 15,
   "metadata": {},
   "outputs": [
    {
     "name": "stdout",
     "output_type": "stream",
     "text": [
      "ffmpeg version 9c33b2f Copyright (c) 2000-2021 the FFmpeg developers\n",
      "  built with gcc 9.3.0 (crosstool-NG 1.24.0.133_b0863d8_dirty)\n",
      "  configuration: --prefix=/userhome/30/ubcasim/anaconda3/envs/hku --cc=/home/conda/feedstock_root/build_artifacts/ffmpeg_1627813612080/_build_env/bin/x86_64-conda-linux-gnu-cc --disable-doc --disable-openssl --enable-avresample --enable-gnutls --enable-gpl --enable-hardcoded-tables --enable-libfreetype --enable-libopenh264 --enable-libx264 --enable-pic --enable-pthreads --enable-shared --enable-static --enable-version3 --enable-zlib --enable-libmp3lame --pkg-config=/home/conda/feedstock_root/build_artifacts/ffmpeg_1627813612080/_build_env/bin/pkg-config\n",
      "  libavutil      56. 51.100 / 56. 51.100\n",
      "  libavcodec     58. 91.100 / 58. 91.100\n",
      "  libavformat    58. 45.100 / 58. 45.100\n",
      "  libavdevice    58. 10.100 / 58. 10.100\n",
      "  libavfilter     7. 85.100 /  7. 85.100\n",
      "  libavresample   4.  0.  0 /  4.  0.  0\n",
      "  libswscale      5.  7.100 /  5.  7.100\n",
      "  libswresample   3.  7.100 /  3.  7.100\n",
      "  libpostproc    55.  7.100 / 55.  7.100\n",
      "Input #0, image2, from '%d.jpg':\n",
      "  Duration: 00:01:23.20, start: 0.000000, bitrate: N/A\n",
      "    Stream #0:0: Video: mjpeg (Baseline), yuvj444p(pc, bt470bg/unknown/unknown), 1280x720 [SAR 1:1 DAR 16:9], 15 fps, 15 tbr, 15 tbn, 15 tbc\n",
      "Stream mapping:\n",
      "  Stream #0:0 -> #0:0 (mjpeg (native) -> h264 (libx264))\n",
      "Press [q] to stop, [?] for help\n",
      "\u001b[1;34m[swscaler @ 0x5647e60c6bc0] \u001b[0m\u001b[0;33mdeprecated pixel format used, make sure you did set range correctly\n",
      "\u001b[0m\u001b[1;36m[libx264 @ 0x5647e5fb4700] \u001b[0musing SAR=1/1\n",
      "\u001b[1;36m[libx264 @ 0x5647e5fb4700] \u001b[0musing cpu capabilities: MMX2 SSE2Fast SSSE3 SSE4.2 AVX FMA3 BMI2 AVX2 AVX512\n",
      "\u001b[1;36m[libx264 @ 0x5647e5fb4700] \u001b[0mprofile High, level 3.1, 4:2:0, 8-bit\n",
      "\u001b[1;36m[libx264 @ 0x5647e5fb4700] \u001b[0m264 - core 161 r3030M 8bd6d28 - H.264/MPEG-4 AVC codec - Copyleft 2003-2020 - http://www.videolan.org/x264.html - options: cabac=1 ref=3 deblock=1:0:0 analyse=0x3:0x113 me=hex subme=7 psy=1 psy_rd=1.00:0.00 mixed_ref=1 me_range=16 chroma_me=1 trellis=1 8x8dct=1 cqm=0 deadzone=21,11 fast_pskip=1 chroma_qp_offset=-2 threads=6 lookahead_threads=1 sliced_threads=0 nr=0 decimate=1 interlaced=0 bluray_compat=0 constrained_intra=0 bframes=3 b_pyramid=2 b_adapt=1 b_bias=0 direct=1 weightb=1 open_gop=0 weightp=2 keyint=250 keyint_min=15 scenecut=40 intra_refresh=0 rc_lookahead=40 rc=crf mbtree=1 crf=23.0 qcomp=0.60 qpmin=0 qpmax=69 qpstep=4 ip_ratio=1.40 aq=1:1.00\n",
      "Output #0, mp4, to '../outputVideo/output.mp4':\n",
      "  Metadata:\n",
      "    encoder         : Lavf58.45.100\n",
      "    Stream #0:0: Video: h264 (libx264) (avc1 / 0x31637661), yuv420p, 1280x720 [SAR 1:1 DAR 16:9], q=-1--1, 15 fps, 15360 tbn, 15 tbc\n",
      "    Metadata:\n",
      "      encoder         : Lavc58.91.100 libx264\n",
      "    Side data:\n",
      "      cpb: bitrate max/min/avg: 0/0/0 buffer size: 0 vbv_delay: N/A\n",
      "frame= 1248 fps= 22 q=-1.0 Lsize=   88931kB time=00:01:23.00 bitrate=8777.4kbits/s speed=1.43x     \n",
      "video:88917kB audio:0kB subtitle:0kB other streams:0kB global headers:0kB muxing overhead: 0.016027%\n",
      "\u001b[1;36m[libx264 @ 0x5647e5fb4700] \u001b[0mframe I:6     Avg QP:23.73  size:244726\n",
      "\u001b[1;36m[libx264 @ 0x5647e5fb4700] \u001b[0mframe P:648   Avg QP:25.66  size:103346\n",
      "\u001b[1;36m[libx264 @ 0x5647e5fb4700] \u001b[0mframe B:594   Avg QP:27.58  size: 38070\n",
      "\u001b[1;36m[libx264 @ 0x5647e5fb4700] \u001b[0mconsecutive B-frames: 26.1% 26.3% 14.9% 32.7%\n",
      "\u001b[1;36m[libx264 @ 0x5647e5fb4700] \u001b[0mmb I  I16..4:  1.3% 69.4% 29.3%\n",
      "\u001b[1;36m[libx264 @ 0x5647e5fb4700] \u001b[0mmb P  I16..4:  0.7% 10.6%  2.8%  P16..4: 28.4% 32.1% 25.0%  0.0%  0.0%    skip: 0.4%\n",
      "\u001b[1;36m[libx264 @ 0x5647e5fb4700] \u001b[0mmb B  I16..4:  0.1%  4.0%  0.9%  B16..8: 44.5% 20.0%  7.6%  direct:13.1%  skip: 9.8%  L0:24.9% L1:30.7% BI:44.4%\n",
      "\u001b[1;36m[libx264 @ 0x5647e5fb4700] \u001b[0m8x8 transform intra:75.8% inter:54.8%\n",
      "\u001b[1;36m[libx264 @ 0x5647e5fb4700] \u001b[0mcoded y,uvDC,uvAC intra: 87.9% 89.6% 61.3% inter: 71.9% 61.6% 20.4%\n",
      "\u001b[1;36m[libx264 @ 0x5647e5fb4700] \u001b[0mi16 v,h,dc,p: 28% 20% 18% 34%\n",
      "\u001b[1;36m[libx264 @ 0x5647e5fb4700] \u001b[0mi8 v,h,dc,ddl,ddr,vr,hd,vl,hu: 11% 12% 22%  7%  9%  9%  9%  8% 12%\n",
      "\u001b[1;36m[libx264 @ 0x5647e5fb4700] \u001b[0mi4 v,h,dc,ddl,ddr,vr,hd,vl,hu: 12% 13% 18%  8% 11%  9% 11%  7% 10%\n",
      "\u001b[1;36m[libx264 @ 0x5647e5fb4700] \u001b[0mi8c dc,h,v,p: 60% 18% 15%  7%\n",
      "\u001b[1;36m[libx264 @ 0x5647e5fb4700] \u001b[0mWeighted P-Frames: Y:21.6% UV:15.3%\n",
      "\u001b[1;36m[libx264 @ 0x5647e5fb4700] \u001b[0mref P L0: 55.3% 34.0%  7.6%  2.4%  0.6%\n",
      "\u001b[1;36m[libx264 @ 0x5647e5fb4700] \u001b[0mref B L0: 96.3%  3.2%  0.5%\n",
      "\u001b[1;36m[libx264 @ 0x5647e5fb4700] \u001b[0mref B L1: 99.4%  0.6%\n",
      "\u001b[1;36m[libx264 @ 0x5647e5fb4700] \u001b[0mkb/s:8754.82\n"
     ]
    }
   ],
   "source": [
    "!cd videoCell/ && ffmpeg -framerate 15 -start_number 5363 -i %d.jpg -c:v libx264 -r 15 -pix_fmt yuv420p ../outputVideo/output.mp4"
   ]
  },
  {
   "cell_type": "code",
   "execution_count": 16,
   "metadata": {},
   "outputs": [],
   "source": [
    "!rm -rf videoCell/"
   ]
  }
 ],
 "metadata": {
  "kernelspec": {
   "display_name": "Python 3",
   "language": "python",
   "name": "python3"
  },
  "language_info": {
   "codemirror_mode": {
    "name": "ipython",
    "version": 3
   },
   "file_extension": ".py",
   "mimetype": "text/x-python",
   "name": "python",
   "nbconvert_exporter": "python",
   "pygments_lexer": "ipython3",
   "version": "3.8.15"
  }
 },
 "nbformat": 4,
 "nbformat_minor": 4
}
